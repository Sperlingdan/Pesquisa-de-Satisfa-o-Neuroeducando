{
  "nbformat": 4,
  "nbformat_minor": 0,
  "metadata": {
    "colab": {
      "provenance": [],
      "toc_visible": true,
      "authorship_tag": "ABX9TyOxA7hC7enmC4qkO6Ie5KyL",
      "include_colab_link": true
    },
    "kernelspec": {
      "name": "python3",
      "display_name": "Python 3"
    },
    "language_info": {
      "name": "python"
    }
  },
  "cells": [
    {
      "cell_type": "markdown",
      "metadata": {
        "id": "view-in-github",
        "colab_type": "text"
      },
      "source": [
        "<a href=\"https://colab.research.google.com/github/Sperlingdan/Pesquisa-de-Satisfacao-Neuroeducando/blob/main/Pesquisa_de_Satisfa%C3%A7%C3%A3o.ipynb\" target=\"_parent\"><img src=\"https://colab.research.google.com/assets/colab-badge.svg\" alt=\"Open In Colab\"/></a>"
      ]
    },
    {
      "cell_type": "code",
      "execution_count": null,
      "metadata": {
        "id": "0nct4ekN2b92"
      },
      "outputs": [],
      "source": [
        "!pip install -q -U google-generativeai"
      ]
    },
    {
      "cell_type": "code",
      "source": [
        "import numpy as np\n",
        "import pandas as pd\n",
        "import matplotlib.pyplot as plt\n",
        "import google.generativeai as genai\n",
        "\n",
        "GOOGLE_API_KEY=\"SECRET_API_KEY\"\n",
        "genai.configure(api_key=GOOGLE_API_KEY)"
      ],
      "metadata": {
        "id": "GcJ9HWib2maF"
      },
      "execution_count": null,
      "outputs": []
    },
    {
      "cell_type": "code",
      "source": [
        "import json\n",
        "\n",
        "# Carregar o JSON da pesquisa\n",
        "with open(\"pesquisa_json.json\", \"r\") as f:\n",
        "  pesquisa = json.load(f)"
      ],
      "metadata": {
        "id": "DDH4jIIh8YWi"
      },
      "execution_count": null,
      "outputs": []
    },
    {
      "cell_type": "code",
      "source": [
        "# Função de boas-vindas\n",
        "def boas_vindas():\n",
        "  print(\"Bem-vindo ao chatbot de pesquisa de satisfação!\")\n",
        "  print(\"Este chatbot irá fazer algumas perguntas sobre sua experiência com os nossos serviços.\")"
      ],
      "metadata": {
        "id": "5dlTzaJW-DUJ"
      },
      "execution_count": null,
      "outputs": []
    },
    {
      "cell_type": "code",
      "source": [
        "boas_vindas()"
      ],
      "metadata": {
        "id": "oA1xFVqUF0nw"
      },
      "execution_count": null,
      "outputs": []
    },
    {
      "cell_type": "code",
      "source": [
        "# Função para apresentar uma pergunta e obter a resposta\n",
        "def fazer_pergunta(pergunta):\n",
        "  print(pergunta[\"texto\"])\n",
        "  if pergunta[\"tipo\"] == \"escala\":\n",
        "    for i, opcao in enumerate(pergunta[\"opcoes\"]):\n",
        "      print(f\"{i+1}. {opcao}\")\n",
        "\n",
        "    while True:\n",
        "      try:\n",
        "        resposta = int(input(\"Escolha uma opção: \"))\n",
        "        if 1 <= resposta <= len(pergunta[\"opcoes\"]):\n",
        "          return pergunta[\"opcoes\"][resposta-1]\n",
        "        else:\n",
        "          print(\"Opção inválida. Digite um número entre 1 e\", len(pergunta[\"opcoes\"]))\n",
        "      except ValueError:\n",
        "        print(\"Valor inválido. Digite um número.\")\n",
        "  elif pergunta[\"tipo\"] == \"estrelas\":\n",
        "    for setor in pergunta[\"setores\"]:\n",
        "      while True:\n",
        "       estrelas = int(input(f\"{setor}: (0-5 estrelas) \"))\n",
        "       if 0 <= estrelas <= 5:\n",
        "        break\n",
        "       else:\n",
        "          print(\"Valor inválido. Digite um número entre 0 e 5.\")\n",
        "      # Armazenar a resposta para o setor\n",
        "  elif pergunta[\"tipo\"] == \"texto\":\n",
        "    return input(\"Resposta: \")\n",
        "# Iterar pelas seções da pesquisa\n",
        "for secao in pesquisa[\"secoes\"]:\n",
        "  print(f\"\\n## {secao['titulo']}\\n\")\n",
        "  for pergunta in secao[\"perguntas\"]:\n",
        "    resposta = fazer_pergunta(pergunta)"
      ],
      "metadata": {
        "id": "9LoNK9p_8gNt"
      },
      "execution_count": null,
      "outputs": []
    },
    {
      "cell_type": "code",
      "source": [
        "    # Função de agradecimento\n",
        "def agradecimento():\n",
        "  print(\"Obrigado por participar da pesquisa!\")\n",
        "  print(\"Seus comentários serão muito valiosos para melhorar nossos serviços.\")"
      ],
      "metadata": {
        "id": "aDMKpNjp9iM6"
      },
      "execution_count": null,
      "outputs": []
    },
    {
      "cell_type": "code",
      "source": [
        "agradecimento()"
      ],
      "metadata": {
        "id": "J408WDKGFxco"
      },
      "execution_count": null,
      "outputs": []
    }
  ]
}