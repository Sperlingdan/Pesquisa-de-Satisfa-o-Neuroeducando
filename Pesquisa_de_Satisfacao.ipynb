{
  "nbformat": 4,
  "nbformat_minor": 0,
  "metadata": {
    "colab": {
      "provenance": [],
      "toc_visible": true,
      "authorship_tag": "ABX9TyOxA7hC7enmC4qkO6Ie5KyL",
      "include_colab_link": true
    },
    "kernelspec": {
      "name": "python3",
      "display_name": "Python 3"
    },
    "language_info": {
      "name": "python"
    }
  },
  "cells": [
    {
      "cell_type": "markdown",
      "metadata": {
        "id": "view-in-github",
        "colab_type": "text"
      },
      "source": [
        "<a href=\"https://colab.research.google.com/github/Sperlingdan/Pesquisa-de-Satisfacao-Neuroeducando/blob/main/Pesquisa_de_Satisfacao.ipynb\" target=\"_parent\"><img src=\"https://colab.research.google.com/assets/colab-badge.svg\" alt=\"Open In Colab\"/></a>"
      ]
    },
    {
      "cell_type": "code",
      "execution_count": null,
      "metadata": {
        "id": "0nct4ekN2b92"
      },
      "outputs": [],
      "source": [
        "!pip install -q -U google-generativeai"
      ]
    },
    {
      "cell_type": "code",
      "source": [
        "import numpy as np\n",
        "import pandas as pd\n",
        "import matplotlib.pyplot as plt\n",
        "import google.generativeai as genai\n",
        "\n",
        "GOOGLE_API_KEY=\"SECRET_API_KEY\"\n",
        "genai.configure(api_key=GOOGLE_API_KEY)"
      ],
      "metadata": {
        "id": "GcJ9HWib2maF"
      },
      "execution_count": null,
      "outputs": []
    },
    {
      "cell_type": "code",
      "source": [
        "import json\n",
        "\n",
        "# Carregar o JSON da pesquisa\n",
        "with open(\"pesquisa_json.json\", \"r\") as f:\n",
        "  pesquisa = json.load(f)"
      ],
      "metadata": {
        "id": "DDH4jIIh8YWi"
      },
      "execution_count": null,
      "outputs": []
    },
    {
      "cell_type": "code",
      "source": [
        "# Função de boas-vindas\n",
        "def boas_vindas():\n",
        "  print(\"Bem-vindo ao chatbot de pesquisa de satisfação!\")\n",
        "  print(\"Este chatbot irá fazer algumas perguntas sobre sua experiência com os nossos serviços.\")"
      ],
      "metadata": {
        "id": "5dlTzaJW-DUJ"
      },
      "execution_count": null,
      "outputs": []
    },
    {
      "cell_type": "code",
      "source": [
        "boas_vindas()"
      ],
      "metadata": {
        "id": "oA1xFVqUF0nw"
      },
      "execution_count": null,
      "outputs": []
    },
    {
      "cell_type": "code",
      "source": [
        "# Função para apresentar uma pergunta e obter a resposta\n",
        "def fazer_pergunta(pergunta):\n",
        "  print(pergunta[\"texto\"])\n",
        "  if pergunta[\"tipo\"] == \"escala\":\n",
        "    for i, opcao in enumerate(pergunta[\"opcoes\"]):\n",
        "      print(f\"{i+1}. {opcao}\")\n",
        "\n",
        "    while True:\n",
        "      try:\n",
        "        resposta = int(input(\"Escolha uma opção: \"))\n",
        "        if 1 <= resposta <= len(pergunta[\"opcoes\"]):\n",
        "          return pergunta[\"opcoes\"][resposta-1]\n",
        "        else:\n",
        "          print(\"Opção inválida. Digite um número entre 1 e\", len(pergunta[\"opcoes\"]))\n",
        "      except ValueError:\n",
        "        print(\"Valor inválido. Digite um número.\")\n",
        "  elif pergunta[\"tipo\"] == \"estrelas\":\n",
        "    for setor in pergunta[\"setores\"]:\n",
        "      while True:\n",
        "       estrelas = int(input(f\"{setor}: (0-5 estrelas) \"))\n",
        "       if 0 <= estrelas <= 5:\n",
        "        break\n",
        "       else:\n",
        "          print(\"Valor inválido. Digite um número entre 0 e 5.\")\n",
        "      # Armazenar a resposta para o setor\n",
        "  elif pergunta[\"tipo\"] == \"texto\":\n",
        "    return input(\"Resposta: \")\n",
        "# Iterar pelas seções da pesquisa\n",
        "for secao in pesquisa[\"secoes\"]:\n",
        "  print(f\"\\n## {secao['titulo']}\\n\")\n",
        "  for pergunta in secao[\"perguntas\"]:\n",
        "    resposta = fazer_pergunta(pergunta)"
      ],
      "metadata": {
        "colab": {
          "base_uri": "https://localhost:8080/"
        },
        "id": "9LoNK9p_8gNt",
        "outputId": "cce12900-41ba-4612-835e-4f61d4fb33a2"
      },
      "execution_count": 16,
      "outputs": [
        {
          "name": "stdout",
          "output_type": "stream",
          "text": [
            "\n",
            "## Opiniões Gerais\n",
            "\n",
            "No geral, o quão você aprecia nossos serviços?\n",
            "1. Péssimo\n",
            "2. Ruim\n",
            "3. Razoável\n",
            "4. Bom\n",
            "5. Muito bom\n",
            "Escolha uma opção: 5\n",
            "A estrutura da clínica corresponde suas expectativas ou necessidades?\n",
            "1. Péssimo\n",
            "2. Ruim\n",
            "3. Razoável\n",
            "4. Bom\n",
            "5. Muito bom\n",
            "Escolha uma opção: 5\n",
            "Quão você nos considera uma clínica acolhedora e acessível?\n",
            "1. Péssimo\n",
            "2. Ruim\n",
            "3. Razoável\n",
            "4. Bom\n",
            "5. Muito bom\n",
            "Escolha uma opção: 6\n",
            "Opção inválida. Digite um número entre 1 e 5\n",
            "Escolha uma opção: 5\n",
            "Como você considera a qualidade dos serviços ofertados pela empresa?\n",
            "1. Péssimo\n",
            "2. Ruim\n",
            "3. Razoável\n",
            "4. Bom\n",
            "5. Muito bom\n",
            "Escolha uma opção: 6\n",
            "Opção inválida. Digite um número entre 1 e 5\n",
            "Escolha uma opção: 5\n",
            "\n",
            "## Recepção, Secretaria e Administrativo\n",
            "\n",
            "Quão bem atendido pelas recepcionistas você se sente?\n",
            "1. Péssimo\n",
            "2. Ruim\n",
            "3. Razoável\n",
            "4. Bom\n",
            "5. Muito bom\n",
            "Escolha uma opção: 6\n",
            "Opção inválida. Digite um número entre 1 e 5\n",
            "Escolha uma opção: 5\n",
            "Quão bem atendido pelos profissionais do setor administrativo/financeiro você se sente?\n",
            "1. Péssimo\n",
            "2. Ruim\n",
            "3. Razoável\n",
            "4. Bom\n",
            "5. Muito bom\n",
            "Escolha uma opção: 6\n",
            "Opção inválida. Digite um número entre 1 e 5\n",
            "Escolha uma opção: 5\n",
            "Quão bem acolhido pelos diretores da Neuroeducando você se sente?\n",
            "1. Péssimo\n",
            "2. Ruim\n",
            "3. Razoável\n",
            "4. Bom\n",
            "5. Muito bom\n",
            "Escolha uma opção: 6\n",
            "Opção inválida. Digite um número entre 1 e 5\n",
            "Escolha uma opção: 5\n",
            "Como você considera a agilidade dos processos de agendamentos e remarcações que você solicita?\n",
            "1. Péssimo\n",
            "2. Ruim\n",
            "3. Razoável\n",
            "4. Bom\n",
            "5. Muito bom\n",
            "Escolha uma opção: 6\n",
            "Opção inválida. Digite um número entre 1 e 5\n",
            "Escolha uma opção: 5\n",
            "Qual a sua satisfação com o nosso atendimento telefônico?\n",
            "1. Péssimo\n",
            "2. Ruim\n",
            "3. Razoável\n",
            "4. Bom\n",
            "5. Muito bom\n",
            "Escolha uma opção: 6\n",
            "Opção inválida. Digite um número entre 1 e 5\n",
            "Escolha uma opção: 5\n",
            "De zero a 5 estrelas, o quão você considera os nossos setores?\n",
            "Recepção: (0-5 estrelas) 6\n",
            "Valor inválido. Digite um número entre 0 e 5.\n",
            "Recepção: (0-5 estrelas) 5\n",
            "Administrativo: (0-5 estrelas) 5\n",
            "Financeiro: (0-5 estrelas) 0\n",
            "Direção: (0-5 estrelas) 5\n",
            "Atendimento telefônico: (0-5 estrelas) 5\n",
            "\n",
            "## Terapias e Profissionais\n",
            "\n",
            "Qual sua satisfação em relação aos atendimentos prestados pelos terapeutas?\n",
            "1. Péssimo\n",
            "2. Ruim\n",
            "3. Razoável\n",
            "4. Bom\n",
            "5. Muito bom\n",
            "Escolha uma opção: 7\n",
            "Opção inválida. Digite um número entre 1 e 5\n",
            "Escolha uma opção: 5\n",
            "A expectativa quanto aos resultados da terapia ou evolução do seu filho está sendo atendida?\n",
            "1. Péssimo\n",
            "2. Ruim\n",
            "3. Razoável\n",
            "4. Bom\n",
            "5. Muito bom\n",
            "Escolha uma opção: 7\n",
            "Opção inválida. Digite um número entre 1 e 5\n",
            "Escolha uma opção: 6\n",
            "Opção inválida. Digite um número entre 1 e 5\n",
            "Escolha uma opção: 5\n",
            "Qual a sua satisfação com o nível de conhecimento dos profissionais?\n",
            "1. Péssimo\n",
            "2. Ruim\n",
            "3. Razoável\n",
            "4. Bom\n",
            "5. Muito bom\n",
            "Escolha uma opção: 0\n",
            "Opção inválida. Digite um número entre 1 e 5\n",
            "Escolha uma opção: 1\n",
            "Os feedbacks sobre os atendimentos são claros e satisfatórios para você?\n",
            "1. Péssimo\n",
            "2. Ruim\n",
            "3. Razoável\n",
            "4. Bom\n",
            "5. Muito bom\n",
            "Escolha uma opção: 5\n",
            "Como você considera a produção e a qualidade dos laudos entregues para você?\n",
            "1. Péssimo\n",
            "2. Ruim\n",
            "3. Razoável\n",
            "4. Bom\n",
            "5. Muito bom\n",
            "Escolha uma opção: 5\n",
            "De zero a 5 estrelas, o quão você considera os nossos setores?\n",
            "Fisioterapia: (0-5 estrelas) 0\n",
            "Terapia Ocupacional: (0-5 estrelas) 6\n",
            "Valor inválido. Digite um número entre 0 e 5.\n",
            "Terapia Ocupacional: (0-5 estrelas) 5\n",
            "Fonoaudiologia: (0-5 estrelas) 5\n",
            "Psicologia: (0-5 estrelas) 5\n",
            "Psicopedagogia: (0-5 estrelas) 5\n",
            "Musicoterapia: (0-5 estrelas) 5\n",
            "Acompanhantes Terapêuticos: (0-5 estrelas) 5\n",
            "\n",
            "## Opiniões e Sugestões\n",
            "\n",
            "O que você mais gosta na nossa clínica?\n",
            "Resposta: 6\n",
            "Onde podemos melhorar?\n",
            "Resposta: 0\n",
            "O que você gostaria que tivéssemos, que somaria para o desenvolvimento do seu filho?\n",
            "Resposta: 156256\n",
            "Porque você indicaria nossos serviços para outras famílias?\n",
            "Resposta: 4672\n",
            "\n",
            "## Identificação (opcional)\n",
            "\n",
            "Nome do responsável:\n",
            "Resposta: 43654\n",
            "Nome do paciente:\n",
            "Resposta: \n",
            "Quais terapias seu filho realiza?\n",
            "Resposta: \n",
            "Como você chegou até a Neuroeducando?\n",
            "Resposta: \n",
            "Há quanto tempo você faz parte da Neuroeducando?\n",
            "Resposta: \n"
          ]
        }
      ]
    },
    {
      "cell_type": "code",
      "source": [
        "    # Função de agradecimento\n",
        "def agradecimento():\n",
        "  print(\"Obrigado por participar da pesquisa!\")\n",
        "  print(\"Seus comentários serão muito valiosos para melhorar nossos serviços.\")"
      ],
      "metadata": {
        "id": "aDMKpNjp9iM6"
      },
      "execution_count": null,
      "outputs": []
    },
    {
      "cell_type": "code",
      "source": [
        "agradecimento()"
      ],
      "metadata": {
        "colab": {
          "base_uri": "https://localhost:8080/"
        },
        "id": "J408WDKGFxco",
        "outputId": "b51cf04d-e709-4944-f7ee-38ffe8a9aced"
      },
      "execution_count": 17,
      "outputs": [
        {
          "output_type": "stream",
          "name": "stdout",
          "text": [
            "Obrigado por participar da pesquisa!\n",
            "Seus comentários serão muito valiosos para melhorar nossos serviços.\n"
          ]
        }
      ]
    }
  ]
}